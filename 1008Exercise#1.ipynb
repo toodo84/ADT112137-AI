{
 "cells": [
  {
   "cell_type": "code",
   "execution_count": 7,
   "id": "42aaee5f-519c-4753-b21b-937440a94715",
   "metadata": {},
   "outputs": [
    {
     "name": "stdin",
     "output_type": "stream",
     "text": [
      "請放入正整數 114514\n"
     ]
    }
   ],
   "source": [
    "sum = 0\n",
    "n = int(input(\"請放入正整數\"))"
   ]
  },
  {
   "cell_type": "code",
   "execution_count": 8,
   "id": "a7e11e2a-58a8-4422-88d5-7f9ec64a04d7",
   "metadata": {},
   "outputs": [],
   "source": [
    "for i in range(1,n+1):\n",
    "    sum += i"
   ]
  },
  {
   "cell_type": "code",
   "execution_count": 9,
   "id": "bd3cbaa9-9819-47d4-9e3d-202281eee2bb",
   "metadata": {},
   "outputs": [
    {
     "name": "stdout",
     "output_type": "stream",
     "text": [
      " 1 至 114514 間所有整數合= 6556785355 \n"
     ]
    }
   ],
   "source": [
    "print(\" 1 至 %d 間所有整數合= %d \" % (n,sum))"
   ]
  },
  {
   "cell_type": "code",
   "execution_count": null,
   "id": "e4234ad1-e314-471e-b4a5-b8d15910cb8b",
   "metadata": {},
   "outputs": [],
   "source": []
  }
 ],
 "metadata": {
  "kernelspec": {
   "display_name": "Python [conda env:base] *",
   "language": "python",
   "name": "conda-base-py"
  },
  "language_info": {
   "codemirror_mode": {
    "name": "ipython",
    "version": 3
   },
   "file_extension": ".py",
   "mimetype": "text/x-python",
   "name": "python",
   "nbconvert_exporter": "python",
   "pygments_lexer": "ipython3",
   "version": "3.13.5"
  }
 },
 "nbformat": 4,
 "nbformat_minor": 5
}
